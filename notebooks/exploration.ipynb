{
 "cells": [
  {
   "cell_type": "markdown",
   "metadata": {},
   "source": [
    "# VAE Latent Space Exploration\n",
    "\n",
    "Interactive notebook for exploring the learned latent space of the VAE model."
   ]
  },
  {
   "cell_type": "code",
   "execution_count": 2,
   "metadata": {},
   "outputs": [],
   "source": [
    "import sys\n",
    "sys.path.append('..')\n",
    "\n",
    "import torch\n",
    "import numpy as np\n",
    "import matplotlib.pyplot as plt\n",
    "from ipywidgets import interact, interactive, fixed, FloatSlider, IntSlider, Dropdown\n",
    "import yaml\n",
    "\n",
    "from src.models.vae import VAE\n",
    "from src.dataset.mnist_loader import MNISTDataset, get_mnist_dataloader\n",
    "from src.utils.interpolation import create_interpolation_path\n",
    "from src.utils.visualization import tensor_to_image, plot_latent_space\n",
    "\n",
    "plt.style.use('seaborn-v0_8-darkgrid')"
   ]
  },
  {
   "cell_type": "markdown",
   "metadata": {},
   "source": [
    "## Load Model and Configuration"
   ]
  },
  {
   "cell_type": "code",
   "execution_count": 3,
   "metadata": {},
   "outputs": [
    {
     "name": "stdout",
     "output_type": "stream",
     "text": [
      "Using device: cuda\n",
      "Loaded model from epoch 1\n",
      "Latent dimension: 20\n"
     ]
    }
   ],
   "source": [
    "with open('../config.yaml', 'r') as f:\n",
    "    config = yaml.safe_load(f)\n",
    "\n",
    "device = torch.device('cuda' if torch.cuda.is_available() else 'cpu')\n",
    "print(f\"Using device: {device}\")\n",
    "\n",
    "model = VAE(\n",
    "    latent_dim=config['model']['latent_dim'],\n",
    "    encoder_channels=config['model']['encoder_channels'],\n",
    "    decoder_channels=config['model']['decoder_channels']\n",
    ").to(device)\n",
    "\n",
    "checkpoint_path = '../outputs/checkpoints/best_model.pth'\n",
    "checkpoint = torch.load(checkpoint_path, map_location=device)\n",
    "model.load_state_dict(checkpoint['model_state_dict'])\n",
    "model.eval()\n",
    "\n",
    "print(f\"Loaded model from epoch {checkpoint['epoch']}\")\n",
    "print(f\"Latent dimension: {model.latent_dim}\")"
   ]
  },
  {
   "cell_type": "markdown",
   "metadata": {},
   "source": [
    "## 1. Latent Space Visualization (2D only)"
   ]
  },
  {
   "cell_type": "code",
   "execution_count": 4,
   "metadata": {},
   "outputs": [
    {
     "name": "stdout",
     "output_type": "stream",
     "text": [
      "Latent space is 20D, skipping 2D visualization\n"
     ]
    }
   ],
   "source": [
    "if model.latent_dim == 2:\n",
    "    test_loader = get_mnist_dataloader(batch_size=256, train=False)\n",
    "    plot_latent_space(model, test_loader, 'latent_space_2d.png', device, num_batches=20)\n",
    "    \n",
    "    from IPython.display import Image\n",
    "    Image('latent_space_2d.png')\n",
    "else:\n",
    "    print(f\"Latent space is {model.latent_dim}D, skipping 2D visualization\")"
   ]
  },
  {
   "cell_type": "markdown",
   "metadata": {},
   "source": [
    "## 2. Interactive Latent Space Decoder"
   ]
  },
  {
   "cell_type": "code",
   "execution_count": 5,
   "metadata": {},
   "outputs": [
    {
     "name": "stdout",
     "output_type": "stream",
     "text": [
      "Too many dimensions for interactive sliders. Using random sampling instead.\n"
     ]
    },
    {
     "data": {
      "image/png": "[encoded data removed]",
      "text/plain": [
       "<Figure size 400x400 with 1 Axes>"
      ]
     },
     "metadata": {},
     "output_type": "display_data"
    },
    {
     "data": {
      "image/png": "[encoded data removed]",
      "text/plain": [
       "<Figure size 400x400 with 1 Axes>"
      ]
     },
     "metadata": {},
     "output_type": "display_data"
    },
    {
     "data": {
      "image/png": "[encoded data removed]",
      "text/plain": [
       "<Figure size 400x400 with 1 Axes>"
      ]
     },
     "metadata": {},
     "output_type": "display_data"
    },
    {
     "data": {
      "image/png": "[encoded data removed]",
      "text/plain": [
       "<Figure size 400x400 with 1 Axes>"
      ]
     },
     "metadata": {},
     "output_type": "display_data"
    },
    {
     "data": {
      "image/png": "[encoded data removed]",
      "text/plain": [
       "<Figure size 400x400 with 1 Axes>"
      ]
     },
     "metadata": {},
     "output_type": "display_data"
    }
   ],
   "source": [
    "def decode_latent_vector(z_values):\n",
    "    z = torch.tensor(z_values, dtype=torch.float32).unsqueeze(0).to(device)\n",
    "    \n",
    "    with torch.no_grad():\n",
    "        decoded = model.decode(z)\n",
    "    \n",
    "    img = tensor_to_image(decoded[0])\n",
    "    \n",
    "    plt.figure(figsize=(4, 4))\n",
    "    plt.imshow(img, cmap='gray')\n",
    "    plt.axis('off')\n",
    "    plt.title(f'Decoded from latent vector')\n",
    "    plt.show()\n",
    "\n",
    "if model.latent_dim <= 10:\n",
    "    sliders = [FloatSlider(min=-3, max=3, step=0.1, value=0, description=f'z{i}') \n",
    "               for i in range(model.latent_dim)]\n",
    "    \n",
    "    def interactive_decode(**kwargs):\n",
    "        z_values = [kwargs[f'z{i}'] for i in range(model.latent_dim)]\n",
    "        decode_latent_vector(z_values)\n",
    "    \n",
    "    interact(interactive_decode, **{f'z{i}': slider for i, slider in enumerate(sliders)})\n",
    "else:\n",
    "    print(\"Too many dimensions for interactive sliders. Using random sampling instead.\")\n",
    "    \n",
    "    def sample_and_decode():\n",
    "        z = torch.randn(1, model.latent_dim).to(device)\n",
    "        with torch.no_grad():\n",
    "            decoded = model.decode(z)\n",
    "        img = tensor_to_image(decoded[0])\n",
    "        plt.figure(figsize=(4, 4))\n",
    "        plt.imshow(img, cmap='gray')\n",
    "        plt.axis('off')\n",
    "        plt.show()\n",
    "    \n",
    "    for _ in range(5):\n",
    "        sample_and_decode()"
   ]
  },
  {
   "cell_type": "markdown",
   "metadata": {},
   "source": [
    "## 3. Latent Dimension Traversal"
   ]
  },
  {
   "cell_type": "code",
   "execution_count": null,
   "metadata": {},
   "outputs": [
    {
     "name": "stderr",
     "output_type": "stream",
     "text": [
      "100%|██████████| 9.91M/9.91M [00:03<00:00, 2.71MB/s]\n",
      "100%|██████████| 28.9k/28.9k [00:00<00:00, 1.92MB/s]\n",
      "100%|██████████| 1.65M/1.65M [00:00<00:00, 9.72MB/s]\n",
      "100%|██████████| 4.54k/4.54k [00:00<00:00, 1.35MB/s]\n"
     ]
    },
    {
     "data": {
      "application/vnd.jupyter.widget-view+json": {
       "model_id": "229c19045b8044be97d8f3deba146902",
       "version_major": 2,
       "version_minor": 0
      },
      "text/plain": [
       "interactive(children=(IntSlider(value=0, description='Dimension', max=19), IntSlider(value=11, description='St…"
      ]
     },
     "metadata": {},
     "output_type": "display_data"
    },
    {
     "data": {
      "text/plain": [
       "<function __main__.traverse_dimension(dim=0, num_steps=11)>"
      ]
     },
     "execution_count": 6,
     "metadata": {},
     "output_type": "execute_result"
    }
   ],
   "source": [
    "test_dataset = MNISTDataset(train=False)\n",
    "sample_image = test_dataset[0][0]\n",
    "\n",
    "def traverse_dimension(dim=0, num_steps=11):\n",
    "    with torch.no_grad():\n",
    "        base_z = model.encode(sample_image.unsqueeze(0).to(device))\n",
    "        \n",
    "        values = torch.linspace(-3, 3, num_steps)\n",
    "        images = []\n",
    "        \n",
    "        for val in values:\n",
    "            z = base_z.clone()\n",
    "            z[0, dim] = val\n",
    "            img = model.decode(z)\n",
    "            images.append(img)\n",
    "    \n",
    "    fig, axes = plt.subplots(1, num_steps, figsize=(num_steps * 2, 2))\n",
    "    for i, (ax, img) in enumerate(zip(axes, images)):\n",
    "        ax.imshow(tensor_to_image(img[0]), cmap='gray')\n",
    "        ax.axis('off')\n",
    "        ax.set_title(f'{values[i]:.1f}', fontsize=10)\n",
    "    \n",
    "    plt.suptitle(f'Traversing Latent Dimension {dim}', fontsize=14)\n",
    "    plt.tight_layout()\n",
    "    plt.show()\n",
    "\n",
    "interact(traverse_dimension, \n",
    "         dim=IntSlider(min=0, max=model.latent_dim-1, value=0, description='Dimension'),\n",
    "         num_steps=IntSlider(min=5, max=21, value=11, description='Steps'))"
   ]
  },
  {
   "cell_type": "markdown",
   "metadata": {},
   "source": [
    "## 4. Interactive Interpolation"
   ]
  },
  {
   "cell_type": "code",
   "execution_count": 7,
   "metadata": {},
   "outputs": [
    {
     "data": {
      "application/vnd.jupyter.widget-view+json": {
       "model_id": "8099657fbc4c480cbda1acd6fa2db075",
       "version_major": 2,
       "version_minor": 0
      },
      "text/plain": [
       "interactive(children=(Dropdown(description='Start', index=3, options=(0, 1, 2, 3, 4, 5, 6, 7, 8, 9), value=3),…"
      ]
     },
     "metadata": {},
     "output_type": "display_data"
    },
    {
     "data": {
      "text/plain": [
       "<function __main__.interpolate_digits(start_digit=0, end_digit=9, steps=10, method='linear')>"
      ]
     },
     "execution_count": 7,
     "metadata": {},
     "output_type": "execute_result"
    }
   ],
   "source": [
    "def get_digit_samples():\n",
    "    samples = {}\n",
    "    for digit in range(10):\n",
    "        for i, (img, _, label) in enumerate(test_dataset):\n",
    "            if label == digit:\n",
    "                samples[digit] = img\n",
    "                break\n",
    "    return samples\n",
    "\n",
    "digit_samples = get_digit_samples()\n",
    "\n",
    "def interpolate_digits(start_digit=0, end_digit=9, steps=10, method='linear'):\n",
    "    start_img = digit_samples[start_digit]\n",
    "    end_img = digit_samples[end_digit]\n",
    "    \n",
    "    interpolated = create_interpolation_path(\n",
    "        model, start_img, end_img, \n",
    "        num_steps=steps, \n",
    "        method=method,\n",
    "        device=device\n",
    "    )\n",
    "    \n",
    "    fig, axes = plt.subplots(2, min(steps, 10), figsize=(min(steps, 10) * 2, 4))\n",
    "    \n",
    "    for i in range(min(steps, 10)):\n",
    "        idx = i * (steps // min(steps, 10))\n",
    "        axes[0, i].imshow(tensor_to_image(interpolated[idx]), cmap='gray')\n",
    "        axes[0, i].axis('off')\n",
    "        \n",
    "        alpha = idx / (steps - 1)\n",
    "        axes[1, i].text(0.5, 0.5, f'{alpha:.2f}', \n",
    "                       ha='center', va='center', fontsize=12)\n",
    "        axes[1, i].axis('off')\n",
    "    \n",
    "    plt.suptitle(f'Interpolation: {start_digit} → {end_digit}', fontsize=14)\n",
    "    plt.tight_layout()\n",
    "    plt.show()\n",
    "\n",
    "interact(interpolate_digits,\n",
    "         start_digit=Dropdown(options=list(range(10)), value=3, description='Start'),\n",
    "         end_digit=Dropdown(options=list(range(10)), value=8, description='End'),\n",
    "         steps=IntSlider(min=5, max=30, value=10, description='Steps'),\n",
    "         method=Dropdown(options=['linear', 'spherical'], value='linear', description='Method'))"
   ]
  },
  {
   "cell_type": "markdown",
   "metadata": {},
   "source": [
    "## 5. Random Walk in Latent Space"
   ]
  },
  {
   "cell_type": "code",
   "execution_count": null,
   "metadata": {},
   "outputs": [
    {
     "data": {
      "application/vnd.jupyter.widget-view+json": {
       "model_id": "561116d4299a4c9181d40556ef9d7477",
       "version_major": 2,
       "version_minor": 0
      },
      "text/plain": [
       "interactive(children=(Dropdown(description='Start Digit', index=5, options=(0, 1, 2, 3, 4, 5, 6, 7, 8, 9), val…"
      ]
     },
     "metadata": {},
     "output_type": "display_data"
    },
    {
     "data": {
      "text/plain": [
       "<function __main__.random_walk(start_digit=5, num_steps=10, step_size=0.5)>"
      ]
     },
     "execution_count": 8,
     "metadata": {},
     "output_type": "execute_result"
    }
   ],
   "source": [
    "def random_walk(start_digit=5, num_steps=10, step_size=0.5):\n",
    "    start_img = digit_samples[start_digit].unsqueeze(0).to(device)\n",
    "    \n",
    "    with torch.no_grad():\n",
    "        current_z = model.encode(start_img)\n",
    "        images = [model.decode(current_z)]\n",
    "        \n",
    "        for _ in range(num_steps - 1):\n",
    "            noise = torch.randn_like(current_z) * step_size\n",
    "            current_z = current_z + noise\n",
    "            img = model.decode(current_z)\n",
    "            images.append(img)\n",
    "    \n",
    "    fig, axes = plt.subplots(1, num_steps, figsize=(num_steps * 2, 2))\n",
    "    for i, (ax, img) in enumerate(zip(axes, images)):\n",
    "        ax.imshow(tensor_to_image(img[0]), cmap='gray')\n",
    "        ax.axis('off')\n",
    "        ax.set_title(f'Step {i}', fontsize=10)\n",
    "    \n",
    "    plt.suptitle(f'Random Walk from {start_digit} (step size={step_size})', fontsize=14)\n",
    "    plt.tight_layout()\n",
    "    plt.show()\n",
    "\n",
    "interact(random_walk,\n",
    "         start_digit=Dropdown(options=list(range(10)), value=5, description='Start Digit'),\n",
    "         num_steps=IntSlider(min=5, max=15, value=10, description='Steps'),\n",
    "         step_size=FloatSlider(min=0.1, max=2.0, value=0.5, step=0.1, description='Step Size'))"
   ]
  },
  {
   "cell_type": "markdown",
   "metadata": {},
   "source": [
    "## 6. Arithmetic in Latent Space"
   ]
  },
  {
   "cell_type": "code",
   "execution_count": null,
   "metadata": {},
   "outputs": [
    {
     "data": {
      "application/vnd.jupyter.widget-view+json": {
       "model_id": "8d04eca7caf94f47a11b9bf12df063d7",
       "version_major": 2,
       "version_minor": 0
      },
      "text/plain": [
       "interactive(children=(Dropdown(description='Digit A', index=3, options=(0, 1, 2, 3, 4, 5, 6, 7, 8, 9), value=3…"
      ]
     },
     "metadata": {},
     "output_type": "display_data"
    },
    {
     "data": {
      "text/plain": [
       "<function __main__.latent_arithmetic(digit_a=3, digit_b=8, digit_c=1, operation='a+b-c')>"
      ]
     },
     "execution_count": 9,
     "metadata": {},
     "output_type": "execute_result"
    }
   ],
   "source": [
    "def latent_arithmetic(digit_a=3, digit_b=8, digit_c=1, operation='a+b-c'):\n",
    "    imgs = {\n",
    "        'a': digit_samples[digit_a].unsqueeze(0).to(device),\n",
    "        'b': digit_samples[digit_b].unsqueeze(0).to(device),\n",
    "        'c': digit_samples[digit_c].unsqueeze(0).to(device)\n",
    "    }\n",
    "    \n",
    "    with torch.no_grad():\n",
    "        z_a = model.encode(imgs['a'])\n",
    "        z_b = model.encode(imgs['b'])\n",
    "        z_c = model.encode(imgs['c'])\n",
    "        \n",
    "        if operation == 'a+b-c':\n",
    "            z_result = z_a + z_b - z_c\n",
    "        elif operation == 'a-b+c':\n",
    "            z_result = z_a - z_b + z_c\n",
    "        elif operation == '2a-b':\n",
    "            z_result = 2 * z_a - z_b\n",
    "        elif operation == '(a+b)/2':\n",
    "            z_result = (z_a + z_b) / 2\n",
    "        \n",
    "        result_img = model.decode(z_result)\n",
    "    \n",
    "    fig, axes = plt.subplots(1, 5, figsize=(10, 2))\n",
    "    \n",
    "    axes[0].imshow(tensor_to_image(imgs['a'][0]), cmap='gray')\n",
    "    axes[0].set_title(f'{digit_a} (a)', fontsize=12)\n",
    "    axes[0].axis('off')\n",
    "    \n",
    "    axes[1].imshow(tensor_to_image(imgs['b'][0]), cmap='gray')\n",
    "    axes[1].set_title(f'{digit_b} (b)', fontsize=12)\n",
    "    axes[1].axis('off')\n",
    "    \n",
    "    axes[2].imshow(tensor_to_image(imgs['c'][0]), cmap='gray')\n",
    "    axes[2].set_title(f'{digit_c} (c)', fontsize=12)\n",
    "    axes[2].axis('off')\n",
    "    \n",
    "    axes[3].text(0.5, 0.5, operation, ha='center', va='center', fontsize=14)\n",
    "    axes[3].axis('off')\n",
    "    \n",
    "    axes[4].imshow(tensor_to_image(result_img[0]), cmap='gray')\n",
    "    axes[4].set_title('Result', fontsize=12)\n",
    "    axes[4].axis('off')\n",
    "    \n",
    "    plt.tight_layout()\n",
    "    plt.show()\n",
    "\n",
    "interact(latent_arithmetic,\n",
    "         digit_a=Dropdown(options=list(range(10)), value=3, description='Digit A'),\n",
    "         digit_b=Dropdown(options=list(range(10)), value=8, description='Digit B'),\n",
    "         digit_c=Dropdown(options=list(range(10)), value=1, description='Digit C'),\n",
    "         operation=Dropdown(options=['a+b-c', 'a-b+c', '2a-b', '(a+b)/2'], \n",
    "                          value='a+b-c', description='Operation'))"
   ]
  }
 ],
 "metadata": {
  "kernelspec": {
   "display_name": ".venv",
   "language": "python",
   "name": "python3"
  },
  "language_info": {
   "codemirror_mode": {
    "name": "ipython",
    "version": 3
   },
   "file_extension": ".py",
   "mimetype": "text/x-python",
   "name": "python",
   "nbconvert_exporter": "python",
   "pygments_lexer": "ipython3",
   "version": "3.11.12"
  }
 },
 "nbformat": 4,
 "nbformat_minor": 4
}
